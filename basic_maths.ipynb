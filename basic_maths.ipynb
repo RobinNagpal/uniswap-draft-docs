{
  "nbformat": 4,
  "nbformat_minor": 0,
  "metadata": {
    "colab": {
      "provenance": [],
      "authorship_tag": "ABX9TyMeODcWGLxTE1RV4dRrutav",
      "include_colab_link": true
    },
    "kernelspec": {
      "name": "python3",
      "display_name": "Python 3"
    },
    "language_info": {
      "name": "python"
    }
  },
  "cells": [
    {
      "cell_type": "markdown",
      "metadata": {
        "id": "view-in-github",
        "colab_type": "text"
      },
      "source": [
        "<a href=\"https://colab.research.google.com/github/RobinNagpal/uniswap-v4-draft-docs/blob/main/basic_maths.ipynb\" target=\"_parent\"><img src=\"https://colab.research.google.com/assets/colab-badge.svg\" alt=\"Open In Colab\"/></a>"
      ]
    },
    {
      "cell_type": "code",
      "execution_count": 11,
      "metadata": {
        "colab": {
          "base_uri": "https://localhost:8080/"
        },
        "id": "aB8WDtyKkUjA",
        "outputId": "9e9c2d7d-2319-41ac-e5bb-8c84c6d8a60e"
      },
      "outputs": [
        {
          "output_type": "stream",
          "name": "stdout",
          "text": [
            "The tick position for a price of 1000.0 is 69080\n",
            "reverse price 999.899349107683\n",
            "The sqrt(price) * 2^96 for a price of 1000000000 is 2505414483750479227146068685750272\n",
            "original price 999999999.9999999\n",
            "28.284271247461902\n"
          ]
        }
      ],
      "source": [
        "import math\n",
        "\n",
        "def calculate_tick(price):\n",
        "    tick = int(math.log(price / math.sqrt(1.0001)) / math.log(1.0001))\n",
        "    return tick\n",
        "\n",
        "# Example usage\n",
        "price = 1000.0  # Replace with your price\n",
        "tick = calculate_tick(price)\n",
        "print(f\"The tick position for a price of {price} is {tick}\")\n",
        "\n",
        "\n",
        "reverse_price = 1.0001 ** tick\n",
        "\n",
        "print(f\"reverse price {reverse_price}\")\n",
        "\n",
        "def calculate_sqrt_price_x96(price):\n",
        "    sqrt_price_x96 = int(math.sqrt(price) * 2**96)\n",
        "    return sqrt_price_x96\n",
        "\n",
        "def calculate_price_from_sqrt_price_x96(sqrt_price_x96):\n",
        "    price = (sqrt_price_x96 / (2**96)) ** 2\n",
        "    return price\n",
        "\n",
        "# Example usage\n",
        "price = 1000000000  # Replace with your price\n",
        "sqrt_price_x96 = calculate_sqrt_price_x96(price)\n",
        "print(f\"The sqrt(price) * 2^96 for a price of {price} is {sqrt_price_x96}\")\n",
        "\n",
        "original_price = calculate_price_from_sqrt_price_x96(sqrt_price_x96)\n",
        "print(f\"original price {original_price}\")\n",
        "\n",
        "print(math.sqrt(800))"
      ]
    }
  ]
}